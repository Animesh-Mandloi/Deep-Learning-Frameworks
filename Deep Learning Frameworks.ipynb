{
 "cells": [
  {
   "cell_type": "code",
   "execution_count": null,
   "id": "bd0c9f44-983f-4679-b09a-7ecb9481ec4b",
   "metadata": {},
   "outputs": [],
   "source": [
    "'''QUE 1 What is TensorFlow 2.0, and how is it different from TensorFlow 1.x?\n",
    "\n",
    "TensorFlow 2.0 introduced significant improvements, focusing on ease of use, better integration with Keras,\n",
    "and tighter support for eager execution. It simplified the model-building process and removed many of the complexities found in TensorFlow 1.x, \n",
    "such as manual session handling and placeholders. TensorFlow 2.0 encourages a more Pythonic, intuitive workflow with automatic differentiation and \n",
    "eager execution, making it easier for developers to debug and prototype models.'''"
   ]
  },
  {
   "cell_type": "code",
   "execution_count": null,
   "id": "2aa11ef7-21ad-4a04-9402-0c1402729afe",
   "metadata": {},
   "outputs": [],
   "source": [
    "'''QUE 2 How do you install TensorFlow 2.0?\n",
    "\n",
    "WE can install TensorFlow 2.0 using pip:\n",
    "BY using below command\n",
    "pip install tensorflow'''"
   ]
  },
  {
   "cell_type": "code",
   "execution_count": null,
   "id": "5a67de5c-0535-4c5b-b5d2-6b316996ae02",
   "metadata": {},
   "outputs": [],
   "source": [
    "'''QUE 3 What is the primary function of tf.function in TensorFlow 2.0?\n",
    "\n",
    "tf.function is a decorator that converts a Python function into a TensorFlow graph, which enables performance optimizations.\n",
    "This is key for running models more efficiently by leveraging TensorFlow’s graph execution and optimizations.\n",
    "When you wrap a function with tf.function, TensorFlow can compile it into a static graph, making it run faster on production hardware.'''"
   ]
  },
  {
   "cell_type": "code",
   "execution_count": null,
   "id": "1dc10960-844b-4569-8f9d-d8f30b6f40e2",
   "metadata": {},
   "outputs": [],
   "source": [
    "'''QUE 4 What is the purpose of the Model class in TensorFlow 2.0?\n",
    "\n",
    "The Model class in TensorFlow 2.0 (usually referring to the Keras model) provides an easy-to-use interface to build, train, and \n",
    "evaluate machine learning models. It encapsulates layers, weights, and the forward pass logic in a clean API,\n",
    "making it easier to create both simple and complex models.'''"
   ]
  },
  {
   "cell_type": "code",
   "execution_count": null,
   "id": "1def8b5a-b850-4c39-8655-887ab533ac18",
   "metadata": {},
   "outputs": [],
   "source": [
    "#QUE 5 How do you create a neural network using TensorFlow 2.0?\n",
    "\n",
    "from tensorflow.keras.models import Sequential\n",
    "from tensorflow.keras.layers import Dense\n",
    "\n",
    "model = Sequential([\n",
    "    Dense(64, activation='relu', input_shape=(784,)),\n",
    "    Dense(10, activation='softmax')\n",
    "])"
   ]
  },
  {
   "cell_type": "code",
   "execution_count": null,
   "id": "e0dcc043-0872-4b79-8232-4a57d1376791",
   "metadata": {},
   "outputs": [],
   "source": [
    "'''QUE 6 What is the importance of Tensor Space in TensorFlow?\n",
    "\n",
    "Tensor space in TensorFlow refers to the multi-dimensional arrays (tensors) that represent data and weights in neural networks. \n",
    "The dimensionality (rank) and shape of tensors define the structure of data in the model and influence the computation process.'''\n"
   ]
  },
  {
   "cell_type": "code",
   "execution_count": null,
   "id": "4d823d96-4d97-4e5e-9564-20bf64dcabf1",
   "metadata": {},
   "outputs": [],
   "source": [
    "#QUE 7 How can TensorBoard be integrated with TensorFlow 2.0?\n",
    "\n",
    "\n",
    "from tensorflow.keras.callbacks import TensorBoard\n",
    "tensorboard_callback = TensorBoard(log_dir='./logs')\n",
    "model.fit(x_train, y_train, epochs=5, callbacks=[tensorboard_callback])\n",
    "\n",
    "#After training, WE can visualize the training process in TensorBoard by running:\n",
    "\n",
    "tensorboard --logdir=./logs"
   ]
  },
  {
   "cell_type": "code",
   "execution_count": null,
   "id": "aab53300-ea61-4bc5-bdfa-33e1c56cd563",
   "metadata": {},
   "outputs": [],
   "source": [
    "'''QUE 8 What is the purpose of TensorFlow Playground?\n",
    "\n",
    "TensorFlow Playground is an interactive visualization tool that helps users understand neural networks.\n",
    "It allows you to experiment with small neural networks in a web browser, adjusting parameters like the number of neurons,\n",
    "learning rate, and activation functions, and observing their effect on the model’s performance.'''"
   ]
  },
  {
   "cell_type": "code",
   "execution_count": null,
   "id": "2246e28d-589b-497a-bd27-ce896cbd9988",
   "metadata": {},
   "outputs": [],
   "source": [
    "'''QUE9 What is Netron, and how is it useful for deep learning models?\n",
    "\n",
    "Netron is a visualizer for deep learning models, especially useful for exploring model architectures and weights. \n",
    "It supports formats like TensorFlow, PyTorch, and ONNX and provides a graphical interface to inspect model structures.'''"
   ]
  },
  {
   "cell_type": "code",
   "execution_count": null,
   "id": "fe198dbd-60c5-4c65-90fc-4bcd8bddebef",
   "metadata": {},
   "outputs": [],
   "source": [
    "'''QUE 10 What is the difference between TensorFlow and PyTorch?\n",
    "\n",
    "TensorFlow is more focused on production-ready deployment with tools like TensorFlow Serving and TensorFlow Lite,\n",
    "and it has better integration with Google’s ecosystem. PyTorch is known for its ease of use, dynamic computation graph (eager execution),\n",
    "and strong research community, making it ideal for rapid prototyping and research.'''\n"
   ]
  },
  {
   "cell_type": "code",
   "execution_count": null,
   "id": "8140387b-6e48-4b1a-8a0d-d5ef3777cd47",
   "metadata": {},
   "outputs": [],
   "source": [
    "'''QUE11 How do you install PyTorch?\n",
    "\n",
    "WE can install PyTorch via pip:\n",
    "\n",
    "pip install torch torchvision'''"
   ]
  },
  {
   "cell_type": "code",
   "execution_count": null,
   "id": "27da5bbf-22f1-415a-8810-1cdf86e5ba40",
   "metadata": {},
   "outputs": [],
   "source": [
    "#QUE12 What is the basic structure of a PyTorch neural network?\n",
    "\n",
    "#A simple neural network in PyTorch can be created by defining a class that inherits from torch.nn.Module and defining the forward method:\n",
    "\n",
    "import torch\n",
    "import torch.nn as nn\n",
    "import torch.optim as optim\n",
    "\n",
    "class SimpleNN(nn.Module):\n",
    "    def __init__(self):\n",
    "        super(SimpleNN, self).__init__()\n",
    "        self.fc1 = nn.Linear(784, 64)\n",
    "        self.fc2 = nn.Linear(64, 10)\n",
    "\n",
    "    def forward(self, x):\n",
    "        x = torch.relu(self.fc1(x))\n",
    "        x = self.fc2(x)\n",
    "        return x"
   ]
  },
  {
   "cell_type": "code",
   "execution_count": null,
   "id": "125f7032-9132-46a2-b0ea-cec0f4394d46",
   "metadata": {},
   "outputs": [],
   "source": [
    "'''QUE 13 What is the significance of tensors in PyTorch?\n",
    "\n",
    "Tensors are the core data structure in PyTorch, just like NumPy arrays. They are used for storing data (such as inputs and model weights) and performing operations. \n",
    "PyTorch tensors also support GPU acceleration, which allows for efficient computation on large datasets.'''"
   ]
  },
  {
   "cell_type": "code",
   "execution_count": null,
   "id": "c02ed1ef-14ce-4894-941f-e631fb8259f7",
   "metadata": {},
   "outputs": [],
   "source": [
    "'''QUE 14 What is the difference between torch.Tensor and torch.cuda.Tensor in PyTorch?\n",
    "\n",
    "torch.Tensor is a standard tensor that resides in CPU memory, while torch.cuda.Tensor is a tensor that resides in GPU memory.\n",
    "torch.cuda.Tensor allows for faster computations when running on compatible GPU hardware.'''\n"
   ]
  },
  {
   "cell_type": "code",
   "execution_count": null,
   "id": "337749bd-6e71-401a-877a-c7dd60ecf81e",
   "metadata": {},
   "outputs": [],
   "source": [
    "'''QUE 15 What is the purpose of the torch.optim module in PyTorch?\n",
    "\n",
    "The torch.optim module provides a suite of optimization algorithms (like SGD, Adam, etc.) used to minimize the loss function and \n",
    "update the model’s parameters during training.'''"
   ]
  },
  {
   "cell_type": "code",
   "execution_count": null,
   "id": "4ba6e26a-f851-4b0f-80a6-b32ac6326fcc",
   "metadata": {},
   "outputs": [],
   "source": [
    "'''QUE 16 What are some common activation functions used in neural networks?\n",
    "\n",
    "Common activation functions include:\n",
    "ReLU (Rectified Linear Unit)\n",
    "Sigmoid\n",
    "Tanh\n",
    "Softmax (typically used in the output layer for classification)'''"
   ]
  },
  {
   "cell_type": "code",
   "execution_count": null,
   "id": "5f13da2c-2ee2-47a2-9cc0-fa353f538769",
   "metadata": {},
   "outputs": [],
   "source": [
    "'''QUE 17 What is the difference between torch.nn.Module and torch.nn.Sequential in PyTorch?\n",
    "\n",
    "torch.nn.Module is the base class for all neural network modules and allows for custom layers and architectures.\n",
    "torch.nn.Sequential is a simpler way to define a network where layers are stacked in a sequential manner,\n",
    "making it useful for straightforward models.'''"
   ]
  },
  {
   "cell_type": "code",
   "execution_count": null,
   "id": "ce719336-05d2-467a-b4fc-d99e19820ea9",
   "metadata": {},
   "outputs": [],
   "source": [
    "'''QUE 18 How can you monitor training progress in TensorFlow 2.0?\n",
    "\n",
    "Training progress in TensorFlow 2.0 can be monitored using the built-in callback functions like TensorBoard, EarlyStopping, and ModelCheckpoint."
   ]
  },
  {
   "cell_type": "code",
   "execution_count": null,
   "id": "432f263b-4d09-410f-b842-e2ce68e76e4f",
   "metadata": {},
   "outputs": [],
   "source": [
    "'''QUE 19 How does the Keras API fit into TensorFlow 2.0?\n",
    "\n",
    "Keras is the high-level API for building and training models in TensorFlow 2.0. It simplifies model creation and \n",
    "training by providing easy-to-use abstractions, like Sequential and Model, \n",
    "and integrates well with TensorFlow's lower-level functionalities.'''"
   ]
  },
  {
   "cell_type": "code",
   "execution_count": null,
   "id": "74e3ae5c-d724-4069-8eba-0063527eea90",
   "metadata": {},
   "outputs": [],
   "source": [
    "'''QUE 20 What is an example of a deep learning project that can be implemented using TensorFlow 2.0?\n",
    "\n",
    "A classic project is building an image classifier using a Convolutional Neural Network (CNN) with a dataset like MNIST or CIFAR-10. \n",
    "You can train a model to classify images based on their labels.'''"
   ]
  },
  {
   "cell_type": "code",
   "execution_count": null,
   "id": "e6fbc642-145d-4e92-adba-52b02cb916d3",
   "metadata": {},
   "outputs": [],
   "source": [
    "'''QUE 21 What is the main advantage of using pre-trained models in TensorFlow and PyTorch?\n",
    "\n",
    "Pre-trained models save time and computational resources. They have already been trained on large datasets and can be fine-tuned to a specific task, \n",
    "which is particularly useful for tasks like image classification,object detection, and natural language processing.'''"
   ]
  },
  {
   "cell_type": "code",
   "execution_count": null,
   "id": "aa9b35da-7c7b-47eb-9f35-9defddf48e12",
   "metadata": {},
   "outputs": [],
   "source": [
    "           # PRACTICAL "
   ]
  },
  {
   "cell_type": "code",
   "execution_count": null,
   "id": "aa6dece3-5777-4e1e-a589-9489c0ee54c2",
   "metadata": {},
   "outputs": [],
   "source": [
    "#QUE1 How do you install and verify that TensorFlow 2.0 was installed successfully?\n",
    "\n",
    "pip install tensorflow\n",
    "\n",
    "#to verify check the version \n",
    "\n",
    "import tensorflow as tf\n",
    "print(tf.__version__)\n"
   ]
  },
  {
   "cell_type": "code",
   "execution_count": null,
   "id": "74295a82-e11b-4fa7-b6de-21826295d6a5",
   "metadata": {},
   "outputs": [],
   "source": [
    "#QUE 2 How can you define a simple function in TensorFlow 2.0 to perform addition?\n",
    "\n",
    "import tensorflow as tf\n",
    "\n",
    "def add_tensors(a, b):\n",
    "    return tf.add(a, b)\n",
    "\n",
    "a = tf.constant(2)\n",
    "b = tf.constant(3)\n",
    "result = add_tensors(a, b)\n",
    "print(result.numpy()) "
   ]
  },
  {
   "cell_type": "code",
   "execution_count": null,
   "id": "1cad71e8-4b87-44e3-98b8-ca7b19387620",
   "metadata": {},
   "outputs": [],
   "source": [
    "#QUE 3 How can you create a simple neural network in TensorFlow 2.0 with one hidden layer?\n",
    "\n",
    "import tensorflow as tf\n",
    "from tensorflow.keras.models import Sequential\n",
    "from tensorflow.keras.layers import Dense\n",
    "\n",
    "model = Sequential([\n",
    "    Dense(64, activation='relu', input_shape=(784,)),  \n",
    "    Dense(10, activation='softmax')  \n",
    "])\n",
    "\n",
    "model.summary()  "
   ]
  },
  {
   "cell_type": "code",
   "execution_count": null,
   "id": "d628a2cf-ca86-4356-9dc3-6c33597ff165",
   "metadata": {},
   "outputs": [],
   "source": [
    "# QUE 4 How can you visualize the training progress using TensorFlow and Matplotlib?\n",
    "\n",
    "import matplotlib.pyplot as plt\n",
    "\n",
    "# Assuming `model` is defined and data is loaded\n",
    "history = model.fit(x_train, y_train, epochs=5, validation_data=(x_val, y_val))\n",
    "\n",
    "plt.plot(history.history['loss'], label='Training Loss')\n",
    "plt.plot(history.history['val_loss'], label='Validation Loss')\n",
    "plt.xlabel('Epochs')\n",
    "plt.ylabel('Loss')\n",
    "plt.legend()\n",
    "plt.show()\n",
    "\n",
    "plt.plot(history.history['accuracy'], label='Training Accuracy')\n",
    "plt.plot(history.history['val_accuracy'], label='Validation Accuracy')\n",
    "plt.xlabel('Epochs')\n",
    "plt.ylabel('Accuracy')\n",
    "plt.legend()\n",
    "plt.show()\n"
   ]
  },
  {
   "cell_type": "code",
   "execution_count": null,
   "id": "228d41ea-9362-4d9c-a1ad-973e3aaf639c",
   "metadata": {},
   "outputs": [],
   "source": [
    "# QUE 5 How do you install PyTorch and verify the PyTorch installation?\n",
    "\n",
    "pip install torch torchvision\n",
    "\n",
    "#Verify the installation by running:\n",
    "\n",
    "import torch\n",
    "print(torch.__version__) "
   ]
  },
  {
   "cell_type": "code",
   "execution_count": null,
   "id": "e7520faf-85ff-4159-a723-dd911dc29498",
   "metadata": {},
   "outputs": [],
   "source": [
    "#QUE 6 How do you create a simple neural network in PyTorch?\n",
    "\n",
    "import torch\n",
    "import torch.nn as nn\n",
    "import torch.optim as optim\n",
    "\n",
    "class SimpleNN(nn.Module):\n",
    "    def __init__(self):\n",
    "        super(SimpleNN, self).__init__()\n",
    "        self.fc1 = nn.Linear(784, 64) \n",
    "        self.fc2 = nn.Linear(64, 10)   \n",
    "    \n",
    "    def forward(self, x):\n",
    "        x = torch.relu(self.fc1(x))  \n",
    "        x = self.fc2(x)  \n",
    "        return x\n",
    "\n",
    "model = SimpleNN()\n",
    "print(model)\n"
   ]
  },
  {
   "cell_type": "code",
   "execution_count": null,
   "id": "e0b2edd5-c28e-4759-94c9-4cdc0337ec84",
   "metadata": {},
   "outputs": [],
   "source": [
    "#QUE 7 How do you define a loss function and optimizer in PyTorch?\n",
    "\n",
    "import torch\n",
    "import torch.optim as optim\n",
    "import torch.nn as nn\n",
    "\n",
    "loss_fn = nn.CrossEntropyLoss()\n",
    "\n",
    "optimizer = optim.SGD(model.parameters(), lr=0.01)\n"
   ]
  },
  {
   "cell_type": "code",
   "execution_count": null,
   "id": "96d25bc4-e435-46b6-9d10-cfb8ec654b12",
   "metadata": {},
   "outputs": [],
   "source": [
    "#QUE 8 How do you implement a custom loss function in PyTorch?\n",
    "\n",
    "import torch\n",
    "import torch.nn as nn\n",
    "\n",
    "class CustomLoss(nn.Module):\n",
    "    def __init__(self):\n",
    "        super(CustomLoss, self).__init__()\n",
    "    \n",
    "    def forward(self, outputs, targets):\n",
    "        # Example: Mean Squared Error\n",
    "        return torch.mean((outputs - targets) ** 2)\n",
    "\n",
    "\n",
    "loss_fn = CustomLoss()\n"
   ]
  },
  {
   "cell_type": "code",
   "execution_count": null,
   "id": "94cbed2d-a09f-418d-a639-7b63654c64bf",
   "metadata": {},
   "outputs": [],
   "source": [
    "#QUE 9 How do you save and load a TensorFlow model?\n",
    "\n"
   ]
  },
  {
   "cell_type": "code",
   "execution_count": null,
   "id": "ead2f909-78b4-42d4-acd0-43184894af08",
   "metadata": {},
   "outputs": [],
   "source": []
  }
 ],
 "metadata": {
  "kernelspec": {
   "display_name": "Python 3 (ipykernel)",
   "language": "python",
   "name": "python3"
  },
  "language_info": {
   "codemirror_mode": {
    "name": "ipython",
    "version": 3
   },
   "file_extension": ".py",
   "mimetype": "text/x-python",
   "name": "python",
   "nbconvert_exporter": "python",
   "pygments_lexer": "ipython3",
   "version": "3.12.2"
  }
 },
 "nbformat": 4,
 "nbformat_minor": 5
}
